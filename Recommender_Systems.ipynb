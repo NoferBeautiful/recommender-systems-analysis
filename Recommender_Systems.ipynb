{
  "nbformat": 4,
  "nbformat_minor": 0,
  "metadata": {
    "colab": {
      "name": "Recommender Systems.ipynb",
      "provenance": []
    },
    "kernelspec": {
      "name": "python3",
      "display_name": "Python 3"
    },
    "language_info": {
      "name": "python"
    }
  },
  "cells": [
    {
      "cell_type": "markdown",
      "source": [
        "# Чтение данных\n",
        "\n",
        "Код подготовлен студентом 201 группы ВМК МГУ Боровко Никитой как сопровождение к реферату."
      ],
      "metadata": {
        "id": "BcrdOvf8fn-t"
      }
    },
    {
      "cell_type": "code",
      "source": [
        "!pip install scikit-surprise\n",
        "!pip install implicit\n",
        "!pip install git+https://github.com/coreylynch/pyFM"
      ],
      "metadata": {
        "id": "jrviG9RffY1b"
      },
      "execution_count": null,
      "outputs": []
    },
    {
      "cell_type": "code",
      "execution_count": null,
      "metadata": {
        "id": "UIyO33VmXWhk"
      },
      "outputs": [],
      "source": [
        "import numpy as np\n",
        "import pandas as pd\n",
        "import scipy.sparse as sparse\n",
        "from surprise import prediction_algorithms\n",
        "from surprise import Dataset\n",
        "from surprise.model_selection import cross_validate, train_test_split\n",
        "from surprise import Reader\n",
        "from surprise import accuracy\n",
        "import implicit\n",
        "import torch\n",
        "import matplotlib.pyplot as plt\n",
        "from pyfm import pylibfm\n",
        "from sklearn.feature_extraction import DictVectorizer\n",
        "from sklearn.metrics import mean_squared_error"
      ]
    },
    {
      "cell_type": "code",
      "source": [
        "train = pd.read_csv('./ratings.csv', names=['user', 'item', 'score', 'timestamp'])\n",
        "train = train.drop('timestamp', 1)\n",
        "train = train.drop(0)\n",
        "train = train.reset_index()\n",
        "train = train.drop('index', 1)\n",
        "train.head()"
      ],
      "metadata": {
        "colab": {
          "base_uri": "https://localhost:8080/",
          "height": 295
        },
        "id": "eBpB-ndhKwBp",
        "outputId": "ad975230-46fe-42da-b3aa-bb4c995a2511"
      },
      "execution_count": null,
      "outputs": [
        {
          "output_type": "stream",
          "name": "stderr",
          "text": [
            "/usr/local/lib/python3.7/dist-packages/ipykernel_launcher.py:2: FutureWarning: In a future version of pandas all arguments of DataFrame.drop except for the argument 'labels' will be keyword-only\n",
            "  \n",
            "/usr/local/lib/python3.7/dist-packages/ipykernel_launcher.py:5: FutureWarning: In a future version of pandas all arguments of DataFrame.drop except for the argument 'labels' will be keyword-only\n",
            "  \"\"\"\n"
          ]
        },
        {
          "output_type": "execute_result",
          "data": {
            "text/plain": [
              "  user item score\n",
              "0    1    1   4.0\n",
              "1    1    3   4.0\n",
              "2    1    6   4.0\n",
              "3    1   47   5.0\n",
              "4    1   50   5.0"
            ],
            "text/html": [
              "\n",
              "  <div id=\"df-96eec9ba-0304-4b1f-b298-bd0eed6d1563\">\n",
              "    <div class=\"colab-df-container\">\n",
              "      <div>\n",
              "<style scoped>\n",
              "    .dataframe tbody tr th:only-of-type {\n",
              "        vertical-align: middle;\n",
              "    }\n",
              "\n",
              "    .dataframe tbody tr th {\n",
              "        vertical-align: top;\n",
              "    }\n",
              "\n",
              "    .dataframe thead th {\n",
              "        text-align: right;\n",
              "    }\n",
              "</style>\n",
              "<table border=\"1\" class=\"dataframe\">\n",
              "  <thead>\n",
              "    <tr style=\"text-align: right;\">\n",
              "      <th></th>\n",
              "      <th>user</th>\n",
              "      <th>item</th>\n",
              "      <th>score</th>\n",
              "    </tr>\n",
              "  </thead>\n",
              "  <tbody>\n",
              "    <tr>\n",
              "      <th>0</th>\n",
              "      <td>1</td>\n",
              "      <td>1</td>\n",
              "      <td>4.0</td>\n",
              "    </tr>\n",
              "    <tr>\n",
              "      <th>1</th>\n",
              "      <td>1</td>\n",
              "      <td>3</td>\n",
              "      <td>4.0</td>\n",
              "    </tr>\n",
              "    <tr>\n",
              "      <th>2</th>\n",
              "      <td>1</td>\n",
              "      <td>6</td>\n",
              "      <td>4.0</td>\n",
              "    </tr>\n",
              "    <tr>\n",
              "      <th>3</th>\n",
              "      <td>1</td>\n",
              "      <td>47</td>\n",
              "      <td>5.0</td>\n",
              "    </tr>\n",
              "    <tr>\n",
              "      <th>4</th>\n",
              "      <td>1</td>\n",
              "      <td>50</td>\n",
              "      <td>5.0</td>\n",
              "    </tr>\n",
              "  </tbody>\n",
              "</table>\n",
              "</div>\n",
              "      <button class=\"colab-df-convert\" onclick=\"convertToInteractive('df-96eec9ba-0304-4b1f-b298-bd0eed6d1563')\"\n",
              "              title=\"Convert this dataframe to an interactive table.\"\n",
              "              style=\"display:none;\">\n",
              "        \n",
              "  <svg xmlns=\"http://www.w3.org/2000/svg\" height=\"24px\"viewBox=\"0 0 24 24\"\n",
              "       width=\"24px\">\n",
              "    <path d=\"M0 0h24v24H0V0z\" fill=\"none\"/>\n",
              "    <path d=\"M18.56 5.44l.94 2.06.94-2.06 2.06-.94-2.06-.94-.94-2.06-.94 2.06-2.06.94zm-11 1L8.5 8.5l.94-2.06 2.06-.94-2.06-.94L8.5 2.5l-.94 2.06-2.06.94zm10 10l.94 2.06.94-2.06 2.06-.94-2.06-.94-.94-2.06-.94 2.06-2.06.94z\"/><path d=\"M17.41 7.96l-1.37-1.37c-.4-.4-.92-.59-1.43-.59-.52 0-1.04.2-1.43.59L10.3 9.45l-7.72 7.72c-.78.78-.78 2.05 0 2.83L4 21.41c.39.39.9.59 1.41.59.51 0 1.02-.2 1.41-.59l7.78-7.78 2.81-2.81c.8-.78.8-2.07 0-2.86zM5.41 20L4 18.59l7.72-7.72 1.47 1.35L5.41 20z\"/>\n",
              "  </svg>\n",
              "      </button>\n",
              "      \n",
              "  <style>\n",
              "    .colab-df-container {\n",
              "      display:flex;\n",
              "      flex-wrap:wrap;\n",
              "      gap: 12px;\n",
              "    }\n",
              "\n",
              "    .colab-df-convert {\n",
              "      background-color: #E8F0FE;\n",
              "      border: none;\n",
              "      border-radius: 50%;\n",
              "      cursor: pointer;\n",
              "      display: none;\n",
              "      fill: #1967D2;\n",
              "      height: 32px;\n",
              "      padding: 0 0 0 0;\n",
              "      width: 32px;\n",
              "    }\n",
              "\n",
              "    .colab-df-convert:hover {\n",
              "      background-color: #E2EBFA;\n",
              "      box-shadow: 0px 1px 2px rgba(60, 64, 67, 0.3), 0px 1px 3px 1px rgba(60, 64, 67, 0.15);\n",
              "      fill: #174EA6;\n",
              "    }\n",
              "\n",
              "    [theme=dark] .colab-df-convert {\n",
              "      background-color: #3B4455;\n",
              "      fill: #D2E3FC;\n",
              "    }\n",
              "\n",
              "    [theme=dark] .colab-df-convert:hover {\n",
              "      background-color: #434B5C;\n",
              "      box-shadow: 0px 1px 3px 1px rgba(0, 0, 0, 0.15);\n",
              "      filter: drop-shadow(0px 1px 2px rgba(0, 0, 0, 0.3));\n",
              "      fill: #FFFFFF;\n",
              "    }\n",
              "  </style>\n",
              "\n",
              "      <script>\n",
              "        const buttonEl =\n",
              "          document.querySelector('#df-96eec9ba-0304-4b1f-b298-bd0eed6d1563 button.colab-df-convert');\n",
              "        buttonEl.style.display =\n",
              "          google.colab.kernel.accessAllowed ? 'block' : 'none';\n",
              "\n",
              "        async function convertToInteractive(key) {\n",
              "          const element = document.querySelector('#df-96eec9ba-0304-4b1f-b298-bd0eed6d1563');\n",
              "          const dataTable =\n",
              "            await google.colab.kernel.invokeFunction('convertToInteractive',\n",
              "                                                     [key], {});\n",
              "          if (!dataTable) return;\n",
              "\n",
              "          const docLinkHtml = 'Like what you see? Visit the ' +\n",
              "            '<a target=\"_blank\" href=https://colab.research.google.com/notebooks/data_table.ipynb>data table notebook</a>'\n",
              "            + ' to learn more about interactive tables.';\n",
              "          element.innerHTML = '';\n",
              "          dataTable['output_type'] = 'display_data';\n",
              "          await google.colab.output.renderOutput(dataTable, element);\n",
              "          const docLink = document.createElement('div');\n",
              "          docLink.innerHTML = docLinkHtml;\n",
              "          element.appendChild(docLink);\n",
              "        }\n",
              "      </script>\n",
              "    </div>\n",
              "  </div>\n",
              "  "
            ]
          },
          "metadata": {},
          "execution_count": 3
        }
      ]
    },
    {
      "cell_type": "code",
      "source": [
        "train['user'] = pd.to_numeric(train['user'])\n",
        "train['item'] = pd.to_numeric(train['item'])"
      ],
      "metadata": {
        "id": "3zHkcheeXRfQ"
      },
      "execution_count": null,
      "outputs": []
    },
    {
      "cell_type": "code",
      "source": [
        "matrix_train = train.pivot_table(columns='item', index='user', values='score').fillna(0).to_numpy()\n",
        "print(matrix_train.shape)\n",
        "matrix_train"
      ],
      "metadata": {
        "colab": {
          "base_uri": "https://localhost:8080/"
        },
        "id": "5Y_zFKh8MUhq",
        "outputId": "6715dd2e-64d2-4379-f441-c4e3e2da3976"
      },
      "execution_count": null,
      "outputs": [
        {
          "output_type": "stream",
          "name": "stdout",
          "text": [
            "(610, 9724)\n"
          ]
        },
        {
          "output_type": "execute_result",
          "data": {
            "text/plain": [
              "array([[4. , 0. , 4. , ..., 0. , 0. , 0. ],\n",
              "       [0. , 0. , 0. , ..., 0. , 0. , 0. ],\n",
              "       [0. , 0. , 0. , ..., 0. , 0. , 0. ],\n",
              "       ...,\n",
              "       [2.5, 2. , 2. , ..., 0. , 0. , 0. ],\n",
              "       [3. , 0. , 0. , ..., 0. , 0. , 0. ],\n",
              "       [5. , 0. , 0. , ..., 0. , 0. , 0. ]])"
            ]
          },
          "metadata": {},
          "execution_count": 5
        }
      ]
    },
    {
      "cell_type": "code",
      "source": [
        "def train_split(user_item, test_size=0.3):\n",
        "    X_train = np.zeros(user_item.shape)\n",
        "    X_test = np.zeros(user_item.shape)\n",
        "    np.random.seed(1367)\n",
        "    has_score = np.argwhere(user_item > 0)\n",
        "    np.random.shuffle(has_score)\n",
        "    split = int(len(has_score) * test_size)\n",
        "    test = has_score[:split]\n",
        "    train = has_score[split:]\n",
        "    for i, idx in enumerate(train):\n",
        "        X_train[idx[0], idx[1]] = user_item[idx[0], idx[1]]\n",
        "    for i, idx in enumerate(test):\n",
        "        X_test[idx[0], idx[1]] = user_item[idx[0], idx[1]]\n",
        "    return X_train, X_test"
      ],
      "metadata": {
        "id": "3fawlYER5yH2"
      },
      "execution_count": null,
      "outputs": []
    },
    {
      "cell_type": "markdown",
      "source": [
        "# Alternating Least Squares"
      ],
      "metadata": {
        "id": "7fXlaB8pYTOA"
      }
    },
    {
      "cell_type": "code",
      "source": [
        "class MyALS:\n",
        "    \n",
        "    def __init__(self, iterations=15, latent_features=5, alpha=40, lambda_reg=10, neg_sampling=0.85, conf_w=10, implicit=0):\n",
        "        self.iterations = iterations\n",
        "        self.latent_features = latent_features\n",
        "        self.alpha = alpha\n",
        "        self.lambda_reg = lambda_reg\n",
        "        self.neg_sampling = neg_sampling\n",
        "        self.conf_w = conf_w\n",
        "        self.implicit = implicit\n",
        "        np.random.seed(1367)\n",
        "        \n",
        "    def fit(self, train, test=None):\n",
        "        user_size, item_size = train.shape\n",
        "        matrix_full = np.zeros_like(train)\n",
        "        mean_score = train[(train > 0)].mean()\n",
        "        for u in range(user_size):\n",
        "            for i in range(item_size):\n",
        "                if train[u][i]:\n",
        "                    matrix_full[u][i] = train[u][i]\n",
        "\n",
        "        C = np.ones(train.shape) + self.alpha * np.log(np.ones(train.shape) + train * self.conf_w)   \n",
        "        C_I = C - 1\n",
        "        lambda_I = self.lambda_reg * sparse.eye(self.latent_features + 1)\n",
        " \n",
        "        # user u x f\n",
        "        X = np.hstack([np.ones((user_size, 1)), np.random.normal(size=(user_size, self.latent_features))])\n",
        "        # item i x f\n",
        "        Y = np.hstack([np.ones((item_size, 1)), np.random.normal(size=(item_size, self.latent_features))])\n",
        "        # biased als\n",
        "        X_bias = np.array([0] * user_size)\n",
        "        Y_bias = np.array([0] * item_size)\n",
        "        \n",
        "        n_user = (train > 0).sum(1)\n",
        "        n_item = (train > 0).sum(0)\n",
        "        \n",
        "        history = [[], [], []]\n",
        "        MIN_LOSS = 9999999\n",
        "        MIN_ITER = 9999999\n",
        "        for iteration in range(self.iterations):            \n",
        "            # User step\n",
        "            yTy = np.dot(Y.T, Y)\n",
        "            Cu = C * (matrix_full - Y_bias)\n",
        "            for u in range(user_size):\n",
        "                # X = ((Y.T*Y + Y.T*(C - I) * Y) + lambda*I)^-1 * (Y.T * Cu)\n",
        "                inv = np.linalg.inv(yTy + np.dot(Y.T * C_I[u], Y) + lambda_I * n_user[u])\n",
        "                X[u] = np.dot(np.dot(inv, Y.T), Cu[u].reshape(-1, 1)).ravel()\n",
        "            X_bias = X[:, 0].copy().reshape(-1, 1)\n",
        "            X[:, 0] = 1\n",
        "                \n",
        "            # Item step\n",
        "            xTx = np.dot(X.T, X)\n",
        "            Ci = C * (matrix_full - X_bias)\n",
        "            for i in range(item_size):\n",
        "                # Y = ((X.T*X + X.T*(C - I) * X) + lambda*I)^-1 * (X.T * Ci)\n",
        "                inv = np.linalg.inv(xTx + np.dot(X.T * C_I[:, i], X) + lambda_I * n_item[i])\n",
        "                Y[i] = np.dot(np.dot(inv, X.T), Ci[:, i].reshape(-1, 1)).ravel()\n",
        "            Y_bias = Y[:, 0].copy().ravel()\n",
        "            Y[:, 0] = 1\n",
        "            \n",
        "            result = np.dot(X[:, 1:], Y[:, 1:].T) + X_bias + Y_bias\n",
        "            result[result > 5] = 5\n",
        "            result[result < 0.5] = 0.5\n",
        "            \n",
        "            if test is not None:\n",
        "                rmse = np.sqrt(((result * (test > 0) - test) ** 2).sum() / (test > 0).sum())\n",
        "                rmset = np.sqrt(((result * (train > 0) - train) ** 2).sum() / (train > 0).sum())\n",
        "                history[0].append(iteration)\n",
        "                history[1].append(rmse)\n",
        "                history[2].append(rmset)\n",
        "                if rmse < MIN_LOSS:\n",
        "                    MIN_LOSS = rmse\n",
        "                    MIN_ITER = iteration\n",
        "                    #print(\"CUR MIN:\", rmse, iteration, self.latent_features, self.alpha, self.lambda_reg, self.neg_sampling, self.conf_w)\n",
        "                print(\"Test score:\", str(iteration) + \" | \" + str(rmse) + \" | \" + str(rmset))\n",
        "            else:\n",
        "                rmse = np.sqrt(((result * (train > 0) - train) ** 2).sum() / (train > 0).sum())\n",
        "                #print(\"Train score:\", str(iteration) + \" | \" + str(rmse))\n",
        "                \n",
        "#        return MIN_LOSS, MIN_ITER, self.latent_features, self.alpha, self.lambda_reg, self.neg_sampling, self.conf_w\n",
        "        return result, history"
      ],
      "metadata": {
        "id": "HhDZZ5tUOSd3"
      },
      "execution_count": null,
      "outputs": []
    },
    {
      "cell_type": "code",
      "source": [
        "X_train, X_test = train_split(matrix_train, test_size = 0.33)\n",
        "\n",
        "my_model_20 = MyALS(latent_features=20)\n",
        "history_20 = my_model_20.fit(X_train, X_test)[1]\n",
        "my_model_15 = MyALS(latent_features=15)\n",
        "history_15 = my_model_15.fit(X_train, X_test)[1]\n",
        "my_model_10 = MyALS(latent_features=10)\n",
        "history_10 = my_model_10.fit(X_train, X_test)[1]\n",
        "my_model_5 = MyALS(latent_features=5)\n",
        "history_5 = my_model_5.fit(X_train, X_test)[1]"
      ],
      "metadata": {
        "colab": {
          "base_uri": "https://localhost:8080/"
        },
        "id": "VfAl8GAa6bwi",
        "outputId": "806f80d7-24d6-44eb-b182-3bd19054c517"
      },
      "execution_count": null,
      "outputs": [
        {
          "output_type": "stream",
          "name": "stdout",
          "text": [
            "Test score: 0 | 1.379348013428643 | 1.0496438384340387\n",
            "Test score: 1 | 1.4572639250914574 | 0.694260397219265\n",
            "Test score: 2 | 1.483903909723292 | 0.6233782245459155\n",
            "Test score: 3 | 1.4985990742047552 | 0.5904838777316735\n",
            "Test score: 4 | 1.507462487741026 | 0.5725760301882492\n",
            "Test score: 5 | 1.5128122283363672 | 0.5619543947338492\n",
            "Test score: 6 | 1.5159317126604661 | 0.5552216553465802\n",
            "Test score: 7 | 1.517717202490466 | 0.5507204069335164\n",
            "Test score: 8 | 1.5188006341609537 | 0.5475653492732666\n",
            "Test score: 9 | 1.5193985544126924 | 0.5452603482566115\n",
            "Test score: 10 | 1.519700388385326 | 0.5435194927384487\n",
            "Test score: 11 | 1.519843528405876 | 0.5421705417837539\n",
            "Test score: 12 | 1.519851534707597 | 0.5411031417325033\n",
            "Test score: 13 | 1.5197823375095578 | 0.5402456469499165\n",
            "Test score: 14 | 1.5197080295668324 | 0.5395452719668026\n",
            "Test score: 0 | 1.3683367882187698 | 1.0860726907372003\n",
            "Test score: 1 | 1.434177871106279 | 0.7526180939712283\n",
            "Test score: 2 | 1.4558085055368066 | 0.6835002981817156\n",
            "Test score: 3 | 1.4627209695513326 | 0.6530972858022834\n",
            "Test score: 4 | 1.466029518790965 | 0.6365851323734133\n",
            "Test score: 5 | 1.4677526007191977 | 0.6268233523933153\n",
            "Test score: 6 | 1.4685998795556297 | 0.6206669571526122\n",
            "Test score: 7 | 1.469172601314611 | 0.6165864492373434\n",
            "Test score: 8 | 1.4697074425636052 | 0.6137713119582907\n",
            "Test score: 9 | 1.4702191359276175 | 0.6117593227102767\n",
            "Test score: 10 | 1.470491863559617 | 0.6102741491132523\n",
            "Test score: 11 | 1.4706033836271337 | 0.6091429630348693\n",
            "Test score: 12 | 1.4706806650139206 | 0.608257328107132\n",
            "Test score: 13 | 1.470617314577929 | 0.6075452735597356\n",
            "Test score: 14 | 1.4704694085232433 | 0.6069598428504914\n",
            "Test score: 0 | 1.3667389381139718 | 1.1246869296577866\n",
            "Test score: 1 | 1.4311997181799476 | 0.8295500773651618\n",
            "Test score: 2 | 1.4328121876286597 | 0.7658754983958092\n",
            "Test score: 3 | 1.427415846048096 | 0.7386770712649691\n",
            "Test score: 4 | 1.4237364451078849 | 0.7233770045083757\n",
            "Test score: 5 | 1.4214650452627406 | 0.7140596615636351\n",
            "Test score: 6 | 1.4196467811481863 | 0.7082719866367675\n",
            "Test score: 7 | 1.418178643641732 | 0.7045773021171637\n",
            "Test score: 8 | 1.417063559226066 | 0.7021018514870532\n",
            "Test score: 9 | 1.4162654038996358 | 0.7003590752396284\n",
            "Test score: 10 | 1.4157368985799363 | 0.6990839624179556\n",
            "Test score: 11 | 1.4153984630352818 | 0.6981294353281396\n",
            "Test score: 12 | 1.41520029065418 | 0.6974056499693555\n",
            "Test score: 13 | 1.415027440329254 | 0.6968528375578441\n",
            "Test score: 14 | 1.414856216878593 | 0.6964327864987077\n",
            "Test score: 0 | 1.3579657808181378 | 1.1672410870814571\n",
            "Test score: 1 | 1.4059125666943522 | 0.9496258266109586\n",
            "Test score: 2 | 1.397555677426628 | 0.8947476406061907\n",
            "Test score: 3 | 1.3810320155247031 | 0.8713052230332792\n",
            "Test score: 4 | 1.370913949556398 | 0.8593223141702356\n",
            "Test score: 5 | 1.366454700728951 | 0.8530262476697077\n",
            "Test score: 6 | 1.3638052748535594 | 0.8494670843706753\n",
            "Test score: 7 | 1.3612040222740955 | 0.8472592654108428\n",
            "Test score: 8 | 1.3586109209520068 | 0.8457420247976578\n",
            "Test score: 9 | 1.3560538834200786 | 0.8445926852024747\n",
            "Test score: 10 | 1.3537519581065012 | 0.8436577670000153\n",
            "Test score: 11 | 1.3517935925825229 | 0.8428519456619059\n",
            "Test score: 12 | 1.350274666165696 | 0.8421328963575818\n",
            "Test score: 13 | 1.3491135026802206 | 0.841502875385091\n",
            "Test score: 14 | 1.3481772178588687 | 0.8409846617956173\n"
          ]
        }
      ]
    },
    {
      "cell_type": "code",
      "source": [
        "fig, axs = plt.subplots(nrows=2, ncols=2, figsize=(14, 11))\n",
        "histories = [history_5, history_10, history_15, history_20]\n",
        "\n",
        "for i in range(0, 4):\n",
        "    ax = axs[(i // 2, i % 2)]\n",
        "    print(histories[i])\n",
        "    ax.plot(histories[i][0], histories[i][1], label='Train')\n",
        "    ax.plot(histories[i][0], histories[i][2], label='Test')\n",
        "    ax.set_title(f'Loss for {(i+1) * 5} latent features')\n",
        "    ax.set_xlabel('Number of iterations')\n",
        "    ax.set_ylabel('Loss')\n",
        "    ax.legend()\n",
        "    ax.grid()\n",
        "\n",
        "plt.show()"
      ],
      "metadata": {
        "colab": {
          "base_uri": "https://localhost:8080/",
          "height": 766
        },
        "id": "cvZhRAXHFc_w",
        "outputId": "60bbfc3e-ed9e-4b07-fec0-7c6eed65ca38"
      },
      "execution_count": null,
      "outputs": [
        {
          "output_type": "stream",
          "name": "stdout",
          "text": [
            "[[0, 1, 2, 3, 4, 5, 6, 7, 8, 9, 10, 11, 12, 13, 14], [1.3579657808181378, 1.4059125666943522, 1.397555677426628, 1.3810320155247031, 1.370913949556398, 1.366454700728951, 1.3638052748535594, 1.3612040222740955, 1.3586109209520068, 1.3560538834200786, 1.3537519581065012, 1.3517935925825229, 1.350274666165696, 1.3491135026802206, 1.3481772178588687], [1.1672410870814571, 0.9496258266109586, 0.8947476406061907, 0.8713052230332792, 0.8593223141702356, 0.8530262476697077, 0.8494670843706753, 0.8472592654108428, 0.8457420247976578, 0.8445926852024747, 0.8436577670000153, 0.8428519456619059, 0.8421328963575818, 0.841502875385091, 0.8409846617956173]]\n",
            "[[0, 1, 2, 3, 4, 5, 6, 7, 8, 9, 10, 11, 12, 13, 14], [1.3667389381139718, 1.4311997181799476, 1.4328121876286597, 1.427415846048096, 1.4237364451078849, 1.4214650452627406, 1.4196467811481863, 1.418178643641732, 1.417063559226066, 1.4162654038996358, 1.4157368985799363, 1.4153984630352818, 1.41520029065418, 1.415027440329254, 1.414856216878593], [1.1246869296577866, 0.8295500773651618, 0.7658754983958092, 0.7386770712649691, 0.7233770045083757, 0.7140596615636351, 0.7082719866367675, 0.7045773021171637, 0.7021018514870532, 0.7003590752396284, 0.6990839624179556, 0.6981294353281396, 0.6974056499693555, 0.6968528375578441, 0.6964327864987077]]\n",
            "[[0, 1, 2, 3, 4, 5, 6, 7, 8, 9, 10, 11, 12, 13, 14], [1.3683367882187698, 1.434177871106279, 1.4558085055368066, 1.4627209695513326, 1.466029518790965, 1.4677526007191977, 1.4685998795556297, 1.469172601314611, 1.4697074425636052, 1.4702191359276175, 1.470491863559617, 1.4706033836271337, 1.4706806650139206, 1.470617314577929, 1.4704694085232433], [1.0860726907372003, 0.7526180939712283, 0.6835002981817156, 0.6530972858022834, 0.6365851323734133, 0.6268233523933153, 0.6206669571526122, 0.6165864492373434, 0.6137713119582907, 0.6117593227102767, 0.6102741491132523, 0.6091429630348693, 0.608257328107132, 0.6075452735597356, 0.6069598428504914]]\n",
            "[[0, 1, 2, 3, 4, 5, 6, 7, 8, 9, 10, 11, 12, 13, 14], [1.379348013428643, 1.4572639250914574, 1.483903909723292, 1.4985990742047552, 1.507462487741026, 1.5128122283363672, 1.5159317126604661, 1.517717202490466, 1.5188006341609537, 1.5193985544126924, 1.519700388385326, 1.519843528405876, 1.519851534707597, 1.5197823375095578, 1.5197080295668324], [1.0496438384340387, 0.694260397219265, 0.6233782245459155, 0.5904838777316735, 0.5725760301882492, 0.5619543947338492, 0.5552216553465802, 0.5507204069335164, 0.5475653492732666, 0.5452603482566115, 0.5435194927384487, 0.5421705417837539, 0.5411031417325033, 0.5402456469499165, 0.5395452719668026]]\n"
          ]
        },
        {
          "output_type": "display_data",
          "data": {
            "text/plain": [
              "<Figure size 1008x792 with 4 Axes>"
            ],
            "image/png": "[encoded data removed]"
          },
          "metadata": {
            "needs_background": "light"
          }
        }
      ]
    },
    {
      "cell_type": "markdown",
      "source": [
        "# Singular Value Decomposition"
      ],
      "metadata": {
        "id": "17KXtHUEYY-O"
      }
    },
    {
      "cell_type": "code",
      "source": [
        "reader = Reader(rating_scale=(0.5, 5.0))\n",
        "data_s = Dataset.load_from_df(train, reader)"
      ],
      "metadata": {
        "id": "ntLllaBuogcX"
      },
      "execution_count": null,
      "outputs": []
    },
    {
      "cell_type": "code",
      "source": [
        "results_svd = []\n",
        "\n",
        "trainset, testset = train_test_split(data_s, test_size=.33)\n",
        "\n",
        "for i in range(5, 51, 5):\n",
        "    algo_svd = prediction_algorithms.SVD(n_factors=i, n_epochs=10 + i // 5 * 2)\n",
        "    cross_validate(algo_svd, data_s, measures=['RMSE'], cv=5, verbose=True)\n",
        "    #algo_svd.fit(trainset)\n",
        "    results_svd.append(accuracy.rmse(algo_svd.test(testset)))\n"
      ],
      "metadata": {
        "colab": {
          "base_uri": "https://localhost:8080/"
        },
        "id": "G1hMhoF5DKFs",
        "outputId": "003afbf3-bfd6-4328-8584-f8d2d6f859ee"
      },
      "execution_count": null,
      "outputs": [
        {
          "output_type": "stream",
          "name": "stdout",
          "text": [
            "Evaluating RMSE of algorithm SVD on 5 split(s).\n",
            "\n",
            "                  Fold 1  Fold 2  Fold 3  Fold 4  Fold 5  Mean    Std     \n",
            "RMSE (testset)    0.8787  0.8768  0.8697  0.8745  0.8743  0.8748  0.0030  \n",
            "Fit time          0.99    1.02    1.04    1.02    1.02    1.02    0.01    \n",
            "Test time         0.17    0.47    0.15    0.31    0.18    0.25    0.12    \n",
            "RMSE: 0.8459\n",
            "Evaluating RMSE of algorithm SVD on 5 split(s).\n",
            "\n",
            "                  Fold 1  Fold 2  Fold 3  Fold 4  Fold 5  Mean    Std     \n",
            "RMSE (testset)    0.8787  0.8698  0.8783  0.8662  0.8733  0.8733  0.0048  \n",
            "Fit time          1.30    1.31    1.34    1.34    1.32    1.32    0.01    \n",
            "Test time         0.13    0.18    0.33    0.14    0.15    0.19    0.07    \n",
            "RMSE: 0.8363\n",
            "Evaluating RMSE of algorithm SVD on 5 split(s).\n",
            "\n",
            "                  Fold 1  Fold 2  Fold 3  Fold 4  Fold 5  Mean    Std     \n",
            "RMSE (testset)    0.8641  0.8739  0.8829  0.8702  0.8671  0.8716  0.0065  \n",
            "Fit time          1.70    1.69    1.74    1.73    1.68    1.71    0.02    \n",
            "Test time         0.15    0.32    0.15    0.14    0.39    0.23    0.11    \n",
            "RMSE: 0.8260\n",
            "Evaluating RMSE of algorithm SVD on 5 split(s).\n",
            "\n",
            "                  Fold 1  Fold 2  Fold 3  Fold 4  Fold 5  Mean    Std     \n",
            "RMSE (testset)    0.8832  0.8659  0.8727  0.8608  0.8720  0.8709  0.0075  \n",
            "Fit time          2.05    2.07    2.08    2.05    2.09    2.07    0.02    \n",
            "Test time         0.17    0.16    0.15    0.32    0.16    0.19    0.06    \n",
            "RMSE: 0.8095\n",
            "Evaluating RMSE of algorithm SVD on 5 split(s).\n",
            "\n",
            "                  Fold 1  Fold 2  Fold 3  Fold 4  Fold 5  Mean    Std     \n",
            "RMSE (testset)    0.8626  0.8733  0.8690  0.8758  0.8675  0.8696  0.0046  \n",
            "Fit time          2.46    2.45    2.44    2.46    2.52    2.47    0.03    \n",
            "Test time         0.16    0.19    0.35    0.15    0.36    0.24    0.09    \n",
            "RMSE: 0.7892\n",
            "Evaluating RMSE of algorithm SVD on 5 split(s).\n",
            "\n",
            "                  Fold 1  Fold 2  Fold 3  Fold 4  Fold 5  Mean    Std     \n",
            "RMSE (testset)    0.8714  0.8680  0.8764  0.8665  0.8650  0.8695  0.0041  \n",
            "Fit time          2.94    2.96    2.92    2.90    2.86    2.92    0.03    \n",
            "Test time         0.14    0.14    0.15    0.34    0.21    0.19    0.08    \n",
            "RMSE: 0.7642\n",
            "Evaluating RMSE of algorithm SVD on 5 split(s).\n",
            "\n",
            "                  Fold 1  Fold 2  Fold 3  Fold 4  Fold 5  Mean    Std     \n",
            "RMSE (testset)    0.8651  0.8703  0.8736  0.8702  0.8663  0.8691  0.0031  \n",
            "Fit time          3.34    3.39    3.35    3.35    3.38    3.36    0.02    \n",
            "Test time         0.16    0.24    0.33    0.14    0.32    0.24    0.08    \n",
            "RMSE: 0.7404\n",
            "Evaluating RMSE of algorithm SVD on 5 split(s).\n",
            "\n",
            "                  Fold 1  Fold 2  Fold 3  Fold 4  Fold 5  Mean    Std     \n",
            "RMSE (testset)    0.8715  0.8762  0.8667  0.8697  0.8659  0.8700  0.0037  \n",
            "Fit time          3.84    3.89    4.07    3.91    3.79    3.90    0.10    \n",
            "Test time         0.15    0.15    0.14    0.33    0.15    0.18    0.07    \n",
            "RMSE: 0.7126\n",
            "Evaluating RMSE of algorithm SVD on 5 split(s).\n",
            "\n",
            "                  Fold 1  Fold 2  Fold 3  Fold 4  Fold 5  Mean    Std     \n",
            "RMSE (testset)    0.8777  0.8652  0.8621  0.8671  0.8767  0.8698  0.0063  \n",
            "Fit time          4.42    4.37    4.45    4.38    4.48    4.42    0.04    \n",
            "Test time         0.17    0.14    0.32    0.14    0.14    0.18    0.07    \n",
            "RMSE: 0.6879\n",
            "Evaluating RMSE of algorithm SVD on 5 split(s).\n",
            "\n",
            "                  Fold 1  Fold 2  Fold 3  Fold 4  Fold 5  Mean    Std     \n",
            "RMSE (testset)    0.8693  0.8607  0.8792  0.8739  0.8776  0.8721  0.0066  \n",
            "Fit time          6.01    11.33   9.54    6.15    6.15    7.84    2.20    \n",
            "Test time         0.33    0.70    0.29    0.27    0.14    0.34    0.19    \n",
            "RMSE: 0.6563\n"
          ]
        }
      ]
    },
    {
      "cell_type": "code",
      "source": [
        "fig, ax = plt.subplots()\n",
        "ax.scatter(np.arange(5, 51, 5), results_svd, label='RMSE loss')\n",
        "ax.set_xlabel('Number of latent factors (with increasing epochs amount)')\n",
        "ax.set_ylabel('RMSE Loss')\n",
        "fig.show()"
      ],
      "metadata": {
        "colab": {
          "base_uri": "https://localhost:8080/",
          "height": 279
        },
        "id": "UG-1pbpxFsgS",
        "outputId": "09d9b891-cebe-4710-bc18-025dc7301745"
      },
      "execution_count": null,
      "outputs": [
        {
          "output_type": "display_data",
          "data": {
            "text/plain": [
              "<Figure size 432x288 with 1 Axes>"
            ],
            "image/png": "[encoded data removed]"
          },
          "metadata": {
            "needs_background": "light"
          }
        }
      ]
    },
    {
      "cell_type": "code",
      "source": [
        "store = train.to_numpy()\n",
        "np.random.shuffle(store)\n",
        "src_train = store[:store.shape[0] // 2]\n",
        "src_test = store[store.shape[0] // 2:]\n",
        "\n",
        "def load_data(src):\n",
        "    data = []\n",
        "    y = []\n",
        "    for i in src:\n",
        "        data.append({ \"user_id\": str(i[0]), \"movie_id\": str(i[1])})\n",
        "        y.append(float(i[2]))\n",
        "    return data, y\n",
        "\n",
        "train_data, train_y = load_data(src_train)\n",
        "test_data, test_y = load_data(src_test)\n",
        "v = DictVectorizer()\n",
        "X_train = v.fit_transform(train_data)\n",
        "X_test = v.transform(test_data)"
      ],
      "metadata": {
        "id": "BxZIPFeWAUT8"
      },
      "execution_count": null,
      "outputs": []
    },
    {
      "cell_type": "code",
      "source": [
        "fm_5 = pylibfm.FM(num_factors=5, num_iter=50, verbose=True, task=\"regression\", initial_learning_rate=0.001, learning_rate_schedule=\"optimal\")\n",
        "fm_10 = pylibfm.FM(num_factors=10, num_iter=50, verbose=True, task=\"regression\", initial_learning_rate=0.001, learning_rate_schedule=\"optimal\")\n",
        "fm_15 = pylibfm.FM(num_factors=15, num_iter=50, verbose=True, task=\"regression\", initial_learning_rate=0.001, learning_rate_schedule=\"optimal\")\n",
        "fm_20 = pylibfm.FM(num_factors=20, num_iter=50, verbose=True, task=\"regression\", initial_learning_rate=0.001, learning_rate_schedule=\"optimal\")\n",
        "\n",
        "fm_5.fit(X_train, train_y)\n",
        "fm_10.fit(X_train, train_y)\n",
        "fm_15.fit(X_train, train_y)\n",
        "fm_20.fit(X_train, train_y)"
      ],
      "metadata": {
        "id": "2__grNFVSMMX"
      },
      "execution_count": null,
      "outputs": []
    },
    {
      "cell_type": "code",
      "source": [
        "# Here we are copying training output from above to s_5, s_10, s_15, s_20\n",
        "# Unfortunately there is no useful API for auto saving this history in pyFM library\n",
        "s_5 = \"\"\n",
        "s_10 = \"\"\n",
        "s_15 = \"\"\n",
        "s_20 = \"\""
      ],
      "metadata": {
        "id": "skbYNytHW_HJ"
      },
      "execution_count": null,
      "outputs": []
    },
    {
      "cell_type": "code",
      "source": [
        "def read_history(s):\n",
        "    history_fm = []\n",
        "    for i in range(0, 50):\n",
        "        cur = s[i * 34: (i+1) * 34]\n",
        "        num = float(cur[-7:])\n",
        "        history_fm.append(num ** 0.5)\n",
        "    return history_fm\n",
        "\n",
        "history_fm_5, history_fm_10, history_fm_15, history_fm_20, = read_history(s_5), read_history(s_10), read_history(s_15), read_history(s_20)"
      ],
      "metadata": {
        "id": "EXCldbUxVSSn"
      },
      "execution_count": null,
      "outputs": []
    },
    {
      "cell_type": "code",
      "source": [
        "fig, axs = plt.subplots(nrows=2, ncols=2, figsize=(14, 11))\n",
        "histories = [history_fm_5, history_fm_10, history_fm_15, history_fm_20]\n",
        "\n",
        "fms = [fm_5, fm_10, fm_15, fm_20]\n",
        "for i in range(0, 4):\n",
        "    ax = axs[(i // 2, i % 2)]\n",
        "    print(histories[i])\n",
        "    ax.plot(np.arange(1, 51), histories[i], label='Train')\n",
        "    ax.set_title(f'Loss for {(i+1) * 5} num_factors')\n",
        "    ax.set_xlabel('Number of epochs')\n",
        "    ax.set_ylabel('Loss')\n",
        "    ax.set_ylim([0.5, 0.8])\n",
        "    ax.scatter(50, mean_squared_error(test_y, fms[i].predict(X_test)), label='Test')\n",
        "    ax.legend()\n",
        "    ax.grid()\n",
        "\n",
        "plt.show()"
      ],
      "metadata": {
        "colab": {
          "base_uri": "https://localhost:8080/",
          "height": 766
        },
        "id": "Y2jmVYQ6ZEoK",
        "outputId": "24b8cce2-57bc-4503-e4d2-554a42b591bb"
      },
      "execution_count": null,
      "outputs": [
        {
          "output_type": "stream",
          "name": "stdout",
          "text": [
            "[0.7326936604065849, 0.6817624219623725, 0.6668733013099265, 0.6570616409439832, 0.6498230528382323, 0.6441350790012915, 0.6393512336736358, 0.6353345575364211, 0.6317594478913632, 0.6286652527378939, 0.6257875038701236, 0.6232014120651524, 0.6208703568378828, 0.6186113481015362, 0.6165711637759262, 0.6147519825100201, 0.6129600313234135, 0.6112528118544732, 0.6096228342180106, 0.6081200539367206, 0.60654760736483, 0.6051859218455102, 0.6037797611712403, 0.6024450182381791, 0.6012071190529933, 0.599849981245311, 0.5986985886069884, 0.5975868137768771, 0.5964142855431952, 0.5952562473422686, 0.5941716923583621, 0.5930345689755362, 0.5919966216119819, 0.5908553122381147, 0.5898220070495844, 0.5887953804166606, 0.5877244252198474, 0.586694128145152, 0.5856449436305243, 0.5845682167206835, 0.5836437269430726, 0.5825461355120296, 0.5814808681289523, 0.5803533406468856, 0.5793962374748389, 0.5782905843950773, 0.577174150495325, 0.5761770561207726, 0.5749869563737946, 0.5739773514695506]\n",
            "[0.7327687220399081, 0.6819384136415839, 0.6667458286333706, 0.6568409244253893, 0.6494228206646268, 0.6435837163881635, 0.6387331211077127, 0.6345786003325357, 0.6308486347769963, 0.6275985978314483, 0.6246679117739281, 0.6219324722186484, 0.6193545026880809, 0.6172033700491273, 0.6149796744608719, 0.6129355594187695, 0.6110155480836801, 0.6092454349439149, 0.6074454708037587, 0.6057227088363123, 0.6040778095576761, 0.6025943909463479, 0.6010158067804873, 0.5995331517105622, 0.5980384603016766, 0.5967243919934897, 0.5952730465929059, 0.5938939299235176, 0.5924187708032216, 0.5912021650839923, 0.5897965751002628, 0.5884471089231385, 0.587196730236128, 0.585772993573449, 0.5844655678480983, 0.5830694641292751, 0.5817731516665237, 0.5803705712732168, 0.5789732290874942, 0.577546534921646, 0.5761249864395745, 0.5746303159423457, 0.5731230234426113, 0.571550522701187, 0.5700701711193106, 0.5685507892879932, 0.5669126916907047, 0.5652786923279525, 0.5635601121442149, 0.5618807702707043]\n",
            "[0.7324138174556785, 0.6813515979287053, 0.6662507035643565, 0.6561630894830949, 0.6487757702010765, 0.6427985687600744, 0.6377617109861645, 0.6335455784708784, 0.629690400117391, 0.62632260058216, 0.6232575711533715, 0.6203708568267855, 0.6177135258353988, 0.615394182617938, 0.6130089722018757, 0.6107618193698752, 0.6087446098323993, 0.6066547617879546, 0.6047892194806386, 0.6028598510433416, 0.6010823570859487, 0.5991911214295486, 0.5975366097570926, 0.5958858951175132, 0.5941296154880684, 0.5924525297439449, 0.5907791465513995, 0.5891858789889656, 0.5875372328627353, 0.5857986002031756, 0.5841575130048402, 0.5824860513351371, 0.5807495157122389, 0.5791804554713497, 0.5774166606532929, 0.5757169443398379, 0.5738640954093573, 0.5721363473858307, 0.5703770682627415, 0.5685156110433556, 0.5666303909957531, 0.5646326239246188, 0.5627255103511836, 0.5606959960620371, 0.5587396531480472, 0.5567135708782389, 0.5545628909330302, 0.5524581432108681, 0.5502090511796403, 0.5480602156697748]\n",
            "[0.7327687220399081, 0.6817770896708102, 0.6665883287307092, 0.6563916513789614, 0.6487988902579905, 0.6426896607228095, 0.6375735251718032, 0.6332140238497564, 0.6293170901858617, 0.6257395624379204, 0.6225512027134796, 0.6195724332150357, 0.6168630317987941, 0.6142637869840611, 0.6119150267806798, 0.6095408107747995, 0.6073302231899875, 0.6051528732477439, 0.6029593684486543, 0.6010407640085654, 0.5990075124737586, 0.5970845836227896, 0.5951890455981192, 0.5933211609238288, 0.5914473772027399, 0.5896609195122228, 0.5877499468311332, 0.5859692824713596, 0.584046231046824, 0.5822714143764917, 0.5803705712732168, 0.5784548383409028, 0.5766714836022326, 0.5747869170396974, 0.5728961511478324, 0.5709203096755273, 0.5688848741177779, 0.5668862319725184, 0.5647565847336355, 0.5627077394171862, 0.5606068140863077, 0.558453220959464, 0.5563092665056012, 0.5540397097681717, 0.5518604896167146, 0.5495179705887697, 0.5471288696458998, 0.5448118941432905, 0.5423744094258135, 0.539916660235633]\n"
          ]
        },
        {
          "output_type": "display_data",
          "data": {
            "text/plain": [
              "<Figure size 1008x792 with 4 Axes>"
            ],
            "image/png": "[encoded data removed]"
          },
          "metadata": {
            "needs_background": "light"
          }
        }
      ]
    },
    {
      "cell_type": "code",
      "source": [
        "!wget -nc https://raw.githubusercontent.com/brpy/colab-pdf/master/colab_pdf.py\n",
        "from colab_pdf import colab_pdf\n",
        "colab_pdf('Recommender Systems.ipynb')"
      ],
      "metadata": {
        "colab": {
          "base_uri": "https://localhost:8080/",
          "height": 382
        },
        "id": "8Bct8EppbZmk",
        "outputId": "830d8ec5-5c5c-4ad8-e0d8-d4a6ef1a364f"
      },
      "execution_count": null,
      "outputs": [
        {
          "output_type": "stream",
          "name": "stdout",
          "text": [
            "File ‘colab_pdf.py’ already there; not retrieving.\n",
            "\n",
            "\n",
            "WARNING: apt does not have a stable CLI interface. Use with caution in scripts.\n",
            "\n",
            "\n",
            "WARNING: apt does not have a stable CLI interface. Use with caution in scripts.\n",
            "\n",
            "[NbConvertApp] Converting notebook /content/drive/MyDrive/Colab Notebooks/Recommender Systems.ipynb to pdf\n",
            "[NbConvertApp] Support files will be in Recommender Systems_files/\n",
            "[NbConvertApp] Making directory ./Recommender Systems_files\n",
            "[NbConvertApp] Making directory ./Recommender Systems_files\n",
            "[NbConvertApp] Making directory ./Recommender Systems_files\n",
            "[NbConvertApp] Writing 73474 bytes to ./notebook.tex\n",
            "[NbConvertApp] Building PDF\n",
            "[NbConvertApp] Running xelatex 3 times: ['xelatex', './notebook.tex', '-quiet']\n",
            "[NbConvertApp] Running bibtex 1 time: ['bibtex', './notebook']\n",
            "[NbConvertApp] WARNING | bibtex had problems, most likely because there were no citations\n",
            "[NbConvertApp] PDF successfully created\n",
            "[NbConvertApp] Writing 148315 bytes to /content/drive/My Drive/Recommender Systems.pdf\n"
          ]
        },
        {
          "output_type": "display_data",
          "data": {
            "text/plain": [
              "<IPython.core.display.Javascript object>"
            ],
            "application/javascript": [
              "\n",
              "    async function download(id, filename, size) {\n",
              "      if (!google.colab.kernel.accessAllowed) {\n",
              "        return;\n",
              "      }\n",
              "      const div = document.createElement('div');\n",
              "      const label = document.createElement('label');\n",
              "      label.textContent = `Downloading \"${filename}\": `;\n",
              "      div.appendChild(label);\n",
              "      const progress = document.createElement('progress');\n",
              "      progress.max = size;\n",
              "      div.appendChild(progress);\n",
              "      document.body.appendChild(div);\n",
              "\n",
              "      const buffers = [];\n",
              "      let downloaded = 0;\n",
              "\n",
              "      const channel = await google.colab.kernel.comms.open(id);\n",
              "      // Send a message to notify the kernel that we're ready.\n",
              "      channel.send({})\n",
              "\n",
              "      for await (const message of channel.messages) {\n",
              "        // Send a message to notify the kernel that we're ready.\n",
              "        channel.send({})\n",
              "        if (message.buffers) {\n",
              "          for (const buffer of message.buffers) {\n",
              "            buffers.push(buffer);\n",
              "            downloaded += buffer.byteLength;\n",
              "            progress.value = downloaded;\n",
              "          }\n",
              "        }\n",
              "      }\n",
              "      const blob = new Blob(buffers, {type: 'application/binary'});\n",
              "      const a = document.createElement('a');\n",
              "      a.href = window.URL.createObjectURL(blob);\n",
              "      a.download = filename;\n",
              "      div.appendChild(a);\n",
              "      a.click();\n",
              "      div.remove();\n",
              "    }\n",
              "  "
            ]
          },
          "metadata": {}
        },
        {
          "output_type": "display_data",
          "data": {
            "text/plain": [
              "<IPython.core.display.Javascript object>"
            ],
            "application/javascript": [
              "download(\"download_ed24b4eb-ba60-4347-b898-48f5fe83798d\", \"Recommender Systems.pdf\", 148315)"
            ]
          },
          "metadata": {}
        },
        {
          "output_type": "execute_result",
          "data": {
            "text/plain": [
              "'File ready to be Downloaded and Saved to Drive'"
            ],
            "application/vnd.google.colaboratory.intrinsic+json": {
              "type": "string"
            }
          },
          "metadata": {},
          "execution_count": 64
        }
      ]
    }
  ]
}
